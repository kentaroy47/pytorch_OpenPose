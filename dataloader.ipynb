{
 "cells": [
  {
   "cell_type": "markdown",
   "metadata": {},
   "source": [
    "# dataloaderの作成"
   ]
  },
  {
   "cell_type": "code",
   "execution_count": 2,
   "metadata": {},
   "outputs": [],
   "source": [
    "# import stuff\n",
    "import os\n",
    "import json\n"
   ]
  },
  {
   "cell_type": "code",
   "execution_count": 4,
   "metadata": {
    "scrolled": true
   },
   "outputs": [],
   "source": [
    "# def make_datapath_list(rootpath):\n",
    "\n",
    "# 可視化\n",
    "rootpath=\".\"\n",
    "json_path = os.path.join(rootpath, \"COCO.json\")\n",
    "with open(json_path) as data_file:\n",
    "    data_this = json.load(data_file)\n",
    "    data_json = data_this[\"root\"]\n",
    "        \n",
    "        "
   ]
  },
  {
   "cell_type": "code",
   "execution_count": 8,
   "metadata": {},
   "outputs": [
    {
     "data": {
      "text/plain": [
       "{'dataset': 'COCO',\n",
       " 'isValidation': 0.0,\n",
       " 'img_paths': 'train2014/COCO_train2014_000000000049.jpg',\n",
       " 'img_width': 381.0,\n",
       " 'img_height': 500.0,\n",
       " 'objpos': [236.235, 296.95],\n",
       " 'image_id': 49.0,\n",
       " 'bbox': [203.39, 260.43, 65.69, 73.04],\n",
       " 'segment_area': 1754.818,\n",
       " 'num_keypoints': 13.0,\n",
       " 'joint_self': [[251.0, 276.0, 1.0],\n",
       "  [253.0, 275.0, 1.0],\n",
       "  [250.0, 274.0, 1.0],\n",
       "  [259.0, 277.0, 1.0],\n",
       "  [0.0, 0.0, 2.0],\n",
       "  [259.0, 285.0, 1.0],\n",
       "  [247.0, 284.0, 1.0],\n",
       "  [257.0, 294.0, 1.0],\n",
       "  [231.0, 291.0, 1.0],\n",
       "  [239.0, 281.0, 1.0],\n",
       "  [230.0, 282.0, 1.0],\n",
       "  [239.0, 308.0, 1.0],\n",
       "  [0.0, 0.0, 2.0],\n",
       "  [227.0, 302.0, 1.0],\n",
       "  [0.0, 0.0, 2.0],\n",
       "  [217.0, 322.0, 1.0],\n",
       "  [0.0, 0.0, 2.0]],\n",
       " 'scale_provided': 0.198,\n",
       " 'joint_others': [[158.0, 270.0, 0.0],\n",
       "  [160.0, 269.0, 1.0],\n",
       "  [157.0, 269.0, 0.0],\n",
       "  [167.0, 270.0, 1.0],\n",
       "  [0.0, 0.0, 2.0],\n",
       "  [166.0, 279.0, 1.0],\n",
       "  [159.0, 277.0, 1.0],\n",
       "  [151.0, 287.0, 1.0],\n",
       "  [0.0, 0.0, 2.0],\n",
       "  [0.0, 0.0, 2.0],\n",
       "  [0.0, 0.0, 2.0],\n",
       "  [158.0, 304.0, 1.0],\n",
       "  [152.0, 302.0, 1.0],\n",
       "  [142.0, 296.0, 1.0],\n",
       "  [0.0, 0.0, 2.0],\n",
       "  [132.0, 319.0, 1.0],\n",
       "  [0.0, 0.0, 2.0]],\n",
       " 'annolist_index': 2.0,\n",
       " 'people_index': 1.0,\n",
       " 'numOtherPeople': 1.0,\n",
       " 'scale_provided_other': 0.171,\n",
       " 'objpos_other': [146.885, 292.785],\n",
       " 'bbox_other': [118.43, 261.32, 56.91, 62.93],\n",
       " 'segment_area_other': 1349.982,\n",
       " 'num_keypoints_other': 11.0}"
      ]
     },
     "execution_count": 8,
     "metadata": {},
     "output_type": "execute_result"
    }
   ],
   "source": [
    "data_json[1]"
   ]
  },
  {
   "cell_type": "markdown",
   "metadata": {},
   "source": [
    "joint_self..メインの人物\n",
    "\n",
    "各配列は\n",
    "{{0, \"Nose\"}, //t\n",
    "{2, \"RShoulder\"}, //t\n",
    "{3, \"RElbow\"}, //t\n",
    "{4, \"RWrist\"}, //t\n",
    "{5, \"LShoulder\"}, //t\n",
    "{6, \"LElbow\"}, //t\n",
    "{7, \"LWrist\"}, //t\n",
    "{8, \"RHip\"}, //t\n",
    "{9, \"RKnee\"}, //t\n",
    "{10, \"RAnkle\"}, //t\n",
    "{11, \"LHip\"}, //t\n",
    "{12, \"LKnee\"}, //t\n",
    "{13, \"LAnkle\"}, //t\n",
    "{14, \"REye\"}, //t\n",
    "{15, \"LEye\"}, //t\n",
    "{16, \"REar\"}, //t\n",
    "{17, \"LEar\"}, //t\n",
    "{18, \"Bkg\"}}, //f background ??\n",
    "\n",
    "COCOにはNeckがない！"
   ]
  },
  {
   "cell_type": "code",
   "execution_count": null,
   "metadata": {},
   "outputs": [],
   "source": []
  }
 ],
 "metadata": {
  "kernelspec": {
   "display_name": "Python 3",
   "language": "python",
   "name": "python3"
  },
  "language_info": {
   "codemirror_mode": {
    "name": "ipython",
    "version": 3
   },
   "file_extension": ".py",
   "mimetype": "text/x-python",
   "name": "python",
   "nbconvert_exporter": "python",
   "pygments_lexer": "ipython3",
   "version": "3.6.5"
  }
 },
 "nbformat": 4,
 "nbformat_minor": 2
}
